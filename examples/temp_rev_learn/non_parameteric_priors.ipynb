{
 "cells": [
  {
   "cell_type": "code",
   "execution_count": 1,
   "metadata": {},
   "outputs": [],
   "source": [
    "import numpy as np\n",
    "from scipy import io\n",
    "import matplotlib.pyplot as plt\n",
    "import seaborn as sns\n",
    "import pandas as pd\n",
    "sns.set(style = 'white', color_codes = True)\n",
    "%matplotlib inline\n",
    "\n",
    "import sys\n",
    "import os\n",
    "\n",
    "import os\n",
    "cwd = os.getcwd()\n",
    "\n",
    "sys.path.append(cwd[:-len('befit/examples/temp_rev_learn')])\n",
    "\n",
    "import torch\n",
    "torch.set_default_dtype(torch.float64)"
   ]
  },
  {
   "cell_type": "code",
   "execution_count": 2,
   "metadata": {},
   "outputs": [],
   "source": [
    "os.chdir(cwd + '/pilot')\n",
    "responses = np.load('responses.npy')\n",
    "\n",
    "mask_all = torch.from_numpy((~np.isnan(responses)).astype(np.uint8))\n",
    "responses_all = torch.from_numpy(np.nan_to_num(responses).astype(np.long))\n",
    "\n",
    "offers_all = torch.from_numpy(np.load('offers.npy')).long()\n",
    "outcomes = torch.from_numpy(np.load('outcomes.npy')).double()\n",
    "outcomes[outcomes < 2] = (outcomes[outcomes < 2] + 1)/2\n",
    "outcomes[torch.isnan(outcomes)] = 0.\n",
    "outcomes_all = outcomes.long()"
   ]
  },
  {
   "cell_type": "code",
   "execution_count": 3,
   "metadata": {},
   "outputs": [],
   "source": [
    "# exclude non-explorers\n",
    "\n",
    "non_expl = torch.sum(torch.squeeze(responses_all == 2), 0) < 20\n",
    "\n",
    "mask_expl = mask_all[..., ~non_expl]\n",
    "responses_expl = responses_all[..., ~non_expl]\n",
    "offers_expl = offers_all[..., ~non_expl]\n",
    "outcomes_expl = outcomes_all[..., ~non_expl]\n",
    "\n",
    "mask_c1 = mask_all[..., :15][..., ~non_expl[:15]]\n",
    "mask_c2 = mask_all[..., 15:][..., ~non_expl[15:]]\n",
    "\n",
    "responses_c1 = responses_all[..., :15][..., ~non_expl[:15]]\n",
    "responses_c2 = responses_all[..., 15:][..., ~non_expl[15:]]\n",
    "\n",
    "offers_c1 = offers_all[..., :15][..., ~non_expl[:15]]\n",
    "offers_c2 = offers_all[..., 15:][..., ~non_expl[15:]]\n",
    "\n",
    "outcomes_c1 = outcomes_all[..., :15][..., ~non_expl[:15]]\n",
    "outcomes_c2 = outcomes_all[..., 15:][..., ~non_expl[15:]]"
   ]
  },
  {
   "cell_type": "code",
   "execution_count": 4,
   "metadata": {},
   "outputs": [],
   "source": [
    "from befit.agents import RLTempRevLearn\n",
    "from befit.inference import DirichletProcessPrior, Horseshoe"
   ]
  },
  {
   "cell_type": "code",
   "execution_count": 16,
   "metadata": {},
   "outputs": [
    {
     "name": "stderr",
     "output_type": "stream",
     "text": [
      "Mean ELBO 1187.88: 100%|██████████| 200/200 [27:31<00:00,  8.16s/it]\n"
     ]
    }
   ],
   "source": [
    "trials = 200\n",
    "\n",
    "rl_agent = RLTempRevLearn(runs=responses_expl.shape[-1], trials=trials)\n",
    "rl_agent.set_parameters()\n",
    "\n",
    "ps_rl = []\n",
    "me_rl = []\n",
    "for i in range(11,12):\n",
    "    T1 = 50*i\n",
    "    T2 = T1 + trials\n",
    "    mask = mask_expl[:, T1:T2]\n",
    "    offers = offers_expl[:, T1:T2]\n",
    "    outcomes = outcomes_expl[:, T1:T2]\n",
    "    responses = responses_expl[:, T1:T2]\n",
    "    stimulus = {'offers': offers, \n",
    "                'outcomes': outcomes,\n",
    "                'mask': mask.double()}\n",
    "    \n",
    "    mask[:, :50] = 0\n",
    "    rl_infer = DirichletProcessPrior(rl_agent, stimulus, responses, mask=mask)\n",
    "    rl_infer.infer_posterior(iter_steps=200)\n",
    "    \n",
    "    labels = ['alpha', 'kappa', 'beta', 'theta']\n",
    "    ps_rl.append(rl_infer.sample_posterior(labels, n_samples=1000))\n",
    "    \n",
    "    me_rl.append(rl_infer.get_log_evidence_per_subject(num_particles=200))"
   ]
  },
  {
   "cell_type": "code",
   "execution_count": 27,
   "metadata": {},
   "outputs": [
    {
     "data": {
      "text/plain": [
       "(array([509.,   0., 471.,   0.,   0.,  12.,   0.,   5.,   0.,   3.]),\n",
       " array([0. , 0.4, 0.8, 1.2, 1.6, 2. , 2.4, 2.8, 3.2, 3.6, 4. ]),\n",
       " <a list of 10 Patch objects>)"
      ]
     },
     "execution_count": 27,
     "metadata": {},
     "output_type": "execute_result"
    },
    {
     "data": {
      "image/png": "[encoded data removed]",
      "text/plain": [
       "<Figure size 432x288 with 1 Axes>"
      ]
     },
     "metadata": {
      "needs_background": "light"
     },
     "output_type": "display_data"
    }
   ],
   "source": [
    "plt.hist(ps_rl[0][-1][:,13])"
   ]
  },
  {
   "cell_type": "code",
   "execution_count": null,
   "metadata": {},
   "outputs": [],
   "source": [
    "# performe sequential parameter estimate and model selection\n",
    "trials = 200\n",
    "\n",
    "rl_agent_c1 = RLTempRevLearn(runs=responses_c1.shape[-1], trials=trials)\n",
    "rl_agent_c1.set_parameters()\n",
    "\n",
    "rl_agent_c2 = RLTempRevLearn(runs=responses_c2.shape[-1], trials=trials)\n",
    "rl_agent_c2.set_parameters()\n",
    "\n",
    "ps_rl_c1 = []\n",
    "me_rl_c1 = []\n",
    "ps_rl_c2 = []\n",
    "me_rl_c2 = []\n",
    "for i in range(1):\n",
    "    T1 = 50*i\n",
    "    T2 = T1 + trials\n",
    "    mask = mask_c1[:, T1:T2]\n",
    "    offers = offers_c1[:, T1:T2]\n",
    "    outcomes = outcomes_c1[:, T1:T2]\n",
    "    responses = responses_c1[:, T1:T2]\n",
    "    stimulus = {'offers': offers, \n",
    "                'outcomes': outcomes,\n",
    "                'mask': mask.double()}\n",
    "    \n",
    "    mask[:, :50] = 0\n",
    "    rl_infer = Horseshoe(rl_agent_c1, stimulus, responses, mask=mask)\n",
    "    rl_infer.infer_posterior(iter_steps=200)\n",
    "    \n",
    "    labels = ['alpha', 'kappa', 'beta', 'theta']\n",
    "    ps_rl_c1.append(rl_infer.sample_posterior(labels, n_samples=1000))\n",
    "    \n",
    "    me_rl_c1.append(rl_infer.get_log_evidence_per_subject(num_particles=200))\n",
    "    \n",
    "    mask = mask_c2[:, T1:T2]\n",
    "    offers = offers_c2[:, T1:T2]\n",
    "    outcomes = outcomes_c2[:, T1:T2]\n",
    "    responses = responses_c2[:, T1:T2]\n",
    "    stimulus = {'offers': offers, \n",
    "                'outcomes': outcomes,\n",
    "                'mask': mask.double()}\n",
    "    \n",
    "    mask[:, :50] = 0\n",
    "    rl_infer = Horseshoe(rl_agent_c2, stimulus, responses, mask=mask)\n",
    "    rl_infer.infer_posterior(iter_steps=200)\n",
    "    \n",
    "    labels = ['alpha', 'kappa', 'beta', 'theta']\n",
    "    ps_rl_c2.append(rl_infer.sample_posterior(labels, n_samples=1000))\n",
    "    \n",
    "    me_rl_c2.append(rl_infer.get_log_evidence_per_subject(num_particles=200))"
   ]
  },
  {
   "cell_type": "code",
   "execution_count": 16,
   "metadata": {},
   "outputs": [
    {
     "data": {
      "text/plain": [
       "[tensor([-135.1732,  -72.3869, -101.5068,  -99.1438, -109.3649,  -58.7079,\n",
       "          -85.7989])]"
      ]
     },
     "execution_count": 16,
     "metadata": {},
     "output_type": "execute_result"
    }
   ],
   "source": [
    "me_rl_c1\n",
    "'[-145.8267,  -89.7420, -112.8995, -121.8902, -121.2229,  -82.7167, -118.3858]'"
   ]
  },
  {
   "cell_type": "code",
   "execution_count": null,
   "metadata": {},
   "outputs": [],
   "source": []
  }
 ],
 "metadata": {
  "kernelspec": {
   "display_name": "Python 3",
   "language": "python",
   "name": "python3"
  },
  "language_info": {
   "codemirror_mode": {
    "name": "ipython",
    "version": 3
   },
   "file_extension": ".py",
   "mimetype": "text/x-python",
   "name": "python",
   "nbconvert_exporter": "python",
   "pygments_lexer": "ipython3",
   "version": "3.7.3"
  }
 },
 "nbformat": 4,
 "nbformat_minor": 2
}
